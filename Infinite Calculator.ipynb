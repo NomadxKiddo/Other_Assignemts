{
 "cells": [
  {
   "cell_type": "code",
   "execution_count": 1,
   "id": "2804e66b",
   "metadata": {},
   "outputs": [
    {
     "name": "stdout",
     "output_type": "stream",
     "text": [
      "You can type '5+6' or '8+9-4+10' or '10/5+2-3' ... : 2*5+10-8*761/61\n",
      "149.70491803278688\n"
     ]
    }
   ],
   "source": [
    "# Getting inputs\n",
    "input_values = input(\"You can type '5+6' or '8+9-4+10' or '10/5+2-3' ... : \")\n",
    "clean_inputs = input_values.replace(\"+\",'/')\n",
    "clean_inputs = clean_inputs.replace('-','/')\n",
    "clean_inputs = clean_inputs.replace('*','/')\n",
    "#clean_inputs = clean_inputs.split('/')\n",
    "clean_inputs = clean_inputs.split('/')\n",
    "\n",
    "# Splitting Numbers and Operations\n",
    "num_vars = []\n",
    "oprations = []\n",
    "\n",
    "for x in clean_inputs:\n",
    "    if x.isdigit():\n",
    "        num_vars.append(x)\n",
    "\n",
    "for x in input_values:\n",
    "    if x.isdigit():\n",
    "        pass\n",
    "    else:\n",
    "        oprations.append(x)\n",
    "\n",
    "# + - * / \n",
    "counts = len(oprations)\n",
    "flag = 0\n",
    "output = 0\n",
    "\n",
    "while flag != counts:\n",
    "#for x in num_vars:\n",
    "    if flag == 0:\n",
    "        if oprations[flag] == '+':\n",
    "            output = int(num_vars[flag]) + int(num_vars[flag+1])\n",
    "            flag += 1\n",
    "        elif oprations[flag] == '-':\n",
    "            output = int(num_vars[flag]) - int(num_vars[flag+1])\n",
    "            flag += 1\n",
    "        elif oprations[flag] == '*':\n",
    "            output = int(num_vars[flag]) * int(num_vars[flag+1])\n",
    "            flag += 1\n",
    "        elif oprations[flag] == '/':\n",
    "            output = int(num_vars[flag]) / int(num_vars[flag+1])\n",
    "            flag += 1\n",
    "        else:\n",
    "            print(\"Invalid Input\")\n",
    "            break\n",
    "    \n",
    "    else:\n",
    "        if oprations[flag] == '+':\n",
    "            output = int(output)  + int(num_vars[flag+1])\n",
    "            flag += 1\n",
    "        elif oprations[flag] == '-':\n",
    "            output = int(output) - int(num_vars[flag+1])\n",
    "            flag += 1\n",
    "        elif oprations[flag] == '*':\n",
    "            output = int(output) * int(num_vars[flag+1])\n",
    "            flag += 1\n",
    "        elif oprations[flag] == '/':\n",
    "            output = int(output) / int(num_vars[flag+1])\n",
    "            flag += 1\n",
    "        else:\n",
    "            print(\"Invalid Input\")\n",
    "            break\n",
    "else:\n",
    "    print(output)"
   ]
  },
  {
   "cell_type": "code",
   "execution_count": null,
   "id": "1750d50d",
   "metadata": {},
   "outputs": [],
   "source": []
  }
 ],
 "metadata": {
  "kernelspec": {
   "display_name": "Python 3 (ipykernel)",
   "language": "python",
   "name": "python3"
  },
  "language_info": {
   "codemirror_mode": {
    "name": "ipython",
    "version": 3
   },
   "file_extension": ".py",
   "mimetype": "text/x-python",
   "name": "python",
   "nbconvert_exporter": "python",
   "pygments_lexer": "ipython3",
   "version": "3.9.13"
  }
 },
 "nbformat": 4,
 "nbformat_minor": 5
}
