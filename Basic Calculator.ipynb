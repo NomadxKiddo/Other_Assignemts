{
 "cells": [
  {
   "cell_type": "markdown",
   "id": "9c43a7d4",
   "metadata": {},
   "source": [
    "## Basic Calculator"
   ]
  },
  {
   "cell_type": "code",
   "execution_count": 1,
   "id": "adcdbcda",
   "metadata": {},
   "outputs": [
    {
     "name": "stdout",
     "output_type": "stream",
     "text": [
      "You can type :\n",
      "'+' for addition...\n",
      "'-'\n",
      "'*' \n",
      "'/' \n",
      "'fact' \n",
      "'perm' \n",
      "'comb' \n",
      "'mean' \n",
      "'median' \n",
      "'mode' \n",
      "'var' \n",
      "'stdv' \n",
      "'fib'\n",
      "mean\n",
      "-----------------------------------------------------------------------------------------------------------------------------\n",
      "Type in your values for Mean calculation: 123456\n",
      "Mean value is 3.5\n"
     ]
    }
   ],
   "source": [
    "# Necessary Libraries\n",
    "import statistics\n",
    "\n",
    "# Getting inputs\n",
    "inp_oprator = (input('''You can type :\n",
    "'+' for addition...\n",
    "'-'\n",
    "'*' \n",
    "'/' \n",
    "'fact' \n",
    "'perm' \n",
    "'comb' \n",
    "'mean' \n",
    "'median' \n",
    "'mode' \n",
    "'var' \n",
    "'stdv' \n",
    "'fib'\n",
    "'''))\n",
    "print('-'*125)\n",
    "\n",
    "if inp_oprator in ['+','-','*','/']:                                   # Basic oprations like +,-,*,/\n",
    "    inp_dig_1 = int(input(\"Type in your First value: \"))               # input 1\n",
    "    inp_dig_2 = int(input(\"Type in your Second value: \"))              # input 2\n",
    "    print('-'*125)\n",
    "\n",
    "    if inp_oprator == '+':\n",
    "        print(f'{inp_dig_1} + {inp_dig_2} = {inp_dig_1 + inp_dig_2}')  # +\n",
    "    elif inp_oprator == '-':\n",
    "        print(f'{inp_dig_1} - {inp_dig_2} = {inp_dig_1 - inp_dig_2}')  # -\n",
    "    elif inp_oprator == '*':\n",
    "        print(f'{inp_dig_1} * {inp_dig_2} = {inp_dig_1 * inp_dig_2}')  # *\n",
    "    elif inp_oprator == '/':\n",
    "        print(f'{inp_dig_1} / {inp_dig_2} = {inp_dig_1 / inp_dig_2}')  # /\n",
    "        \n",
    "elif inp_oprator == 'fact':\n",
    "    n = int(input(\"Type in your Factorial value: \"))                   # Factorial\n",
    "    for x in range(n)[:0:-1]:\n",
    "        n = x * n\n",
    "    print(f'Factorial of {inp_dig_1} is {n}')\n",
    "\n",
    "elif inp_oprator == 'perm':                                           # Permutation\n",
    "    perm_list = list(input(\"Type in your values: \"))\n",
    "    length = int(input(\"Type in your length: \"))\n",
    "    from itertools import permutations                                # importing libraries\n",
    "    out = permutations(perm_list, length)\n",
    "    for x in list(out):\n",
    "        print(x)\n",
    "        \n",
    "elif inp_oprator == 'comb':                                           # Combination\n",
    "    comb_list = list(input(\"Type in your values: \"))\n",
    "    length = int(input(\"Type in your length: \"))\n",
    "    from itertools import combinations                                # importing libraries\n",
    "    out = combinations(comb_list, length)\n",
    "    for x in list(out):\n",
    "        print(x)\n",
    "        \n",
    "elif inp_oprator == 'mean':                                           # Mean\n",
    "    mean_list = []\n",
    "    inp_values = (input('Type in your values for Mean calculation: '))\n",
    "    for x in inp_values:\n",
    "        mean_list.append(int(x))\n",
    "    print(f'Mean value is {sum(mean_list) / (len(mean_list))}')\n",
    "\n",
    "elif inp_oprator == 'median':                                          # Median\n",
    "    inp_values = (input('Type in your values for Median calculation: '))\n",
    "    median_list = []\n",
    "    for x in inp_values:\n",
    "        median_list.append(int(x))\n",
    "    print(f'Median value is {statistics.median(median_list)}')\n",
    "    \n",
    "elif inp_oprator == 'mode':                                            # Mode\n",
    "    inp_values = (input('Type in your values for Mode calculation: '))\n",
    "    mode_list = []\n",
    "    for x in inp_values:\n",
    "        mode_list.append(int(x))\n",
    "    print(f'Mode value is {statistics.mode(mode_list)}')\n",
    "    \n",
    "elif inp_oprator == 'var':                                             # Variance\n",
    "    inp_values = (input('Type in your values for Variance calculation: '))\n",
    "    var_list = []\n",
    "    for x in inp_values:\n",
    "        var_list.append(int(x))\n",
    "    print(f'Variance is {statistics.variance(var_list)}')\n",
    "    \n",
    "elif inp_oprator == 'stdv':                                            # Standard Deviation\n",
    "    inp_values = (input('Type in your values for Standard  calculation: '))\n",
    "    stdv_list = []\n",
    "    for x in inp_values:\n",
    "        stdv_list.append(int(x))\n",
    "    print(f'Standard Deviation is {statistics.stdev(stdv_list)}')\n",
    "    \n",
    "elif inp_oprator == 'fib':                                            # Fibonacci\n",
    "    nth = int(input(\"Type in your frequency: \"))\n",
    "    count = 1\n",
    "    out = [0]\n",
    "    while count != nth:\n",
    "        if len(out) == 1:\n",
    "            out.append(count + out[-1])\n",
    "            count += 1\n",
    "        else:\n",
    "            out.append(out[-2] + out[-1])\n",
    "            count += 1\n",
    "    print(out)\n",
    "    \n",
    "else:\n",
    "    print('Invalid Input')"
   ]
  },
  {
   "cell_type": "markdown",
   "id": "498261c3",
   "metadata": {},
   "source": [
    "### Additional Workings"
   ]
  },
  {
   "cell_type": "code",
   "execution_count": 2,
   "id": "1dcdf1e4",
   "metadata": {},
   "outputs": [
    {
     "name": "stdout",
     "output_type": "stream",
     "text": [
      "1,2,3,4,5,6,10\n",
      "4.428571428571429\n"
     ]
    }
   ],
   "source": [
    "# Mean\n",
    "\n",
    "# for inputs like 1,2,3,6,10,25,80\n",
    "\n",
    "tups = input()\n",
    "inp_list = tups.split(',')\n",
    "clean_list = [int(x) for x in inp_list]\n",
    "\n",
    "out = sum(clean_list) / len(clean_list)\n",
    "print(out)"
   ]
  },
  {
   "cell_type": "code",
   "execution_count": 3,
   "id": "cc80bcf3",
   "metadata": {},
   "outputs": [
    {
     "name": "stdout",
     "output_type": "stream",
     "text": [
      "1,2,3,9,8,2,8,8,4,5,5,5,58,6,2,5,8,6,2,4,4,5,2\n",
      "5\n"
     ]
    }
   ],
   "source": [
    "# Median\n",
    "\n",
    "# for inputs like 1,2,3,6,10,25,80\n",
    "\n",
    "tups = input()\n",
    "inp_list = tups.split(',')\n",
    "\n",
    "if len(inp_list) % 2 == 1:\n",
    "    print(inp_list[(len(inp_list)) // 2])\n",
    "else:\n",
    "    dig_2 = int(inp_list[len(inp_list) // 2 ])\n",
    "    dig_1 = int(inp_list[(len(inp_list) // 2) - 1])\n",
    "    print(f'Median value is {(dig_1 + dig_2) / 2}')"
   ]
  }
 ],
 "metadata": {
  "kernelspec": {
   "display_name": "Python 3 (ipykernel)",
   "language": "python",
   "name": "python3"
  },
  "language_info": {
   "codemirror_mode": {
    "name": "ipython",
    "version": 3
   },
   "file_extension": ".py",
   "mimetype": "text/x-python",
   "name": "python",
   "nbconvert_exporter": "python",
   "pygments_lexer": "ipython3",
   "version": "3.9.13"
  }
 },
 "nbformat": 4,
 "nbformat_minor": 5
}
