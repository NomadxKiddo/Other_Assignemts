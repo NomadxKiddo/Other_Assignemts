{
 "cells": [
  {
   "cell_type": "code",
   "execution_count": 1,
   "id": "88328e82",
   "metadata": {},
   "outputs": [],
   "source": [
    "# Necessary Libraries\n",
    "\n",
    "import numpy as np, pandas as pd"
   ]
  },
  {
   "cell_type": "code",
   "execution_count": 2,
   "id": "472a7b9b",
   "metadata": {},
   "outputs": [],
   "source": [
    "# Lets import the data\n",
    "\n",
    "data = pd.read_excel(r'C:\\Users\\joshu\\Desktop\\prwa Tech\\Assignments\\4. Movies\\Workings\\movie.xlsx', header= None, index_col= 0)"
   ]
  },
  {
   "cell_type": "code",
   "execution_count": 3,
   "id": "c99e24c6",
   "metadata": {},
   "outputs": [],
   "source": [
    "data.columns = ['film_titles', 'year', 'ratings', 'seconds']"
   ]
  },
  {
   "cell_type": "code",
   "execution_count": 4,
   "id": "45e80f23",
   "metadata": {},
   "outputs": [
    {
     "data": {
      "text/html": [
       "<div>\n",
       "<style scoped>\n",
       "    .dataframe tbody tr th:only-of-type {\n",
       "        vertical-align: middle;\n",
       "    }\n",
       "\n",
       "    .dataframe tbody tr th {\n",
       "        vertical-align: top;\n",
       "    }\n",
       "\n",
       "    .dataframe thead th {\n",
       "        text-align: right;\n",
       "    }\n",
       "</style>\n",
       "<table border=\"1\" class=\"dataframe\">\n",
       "  <thead>\n",
       "    <tr style=\"text-align: right;\">\n",
       "      <th></th>\n",
       "      <th>film_titles</th>\n",
       "      <th>year</th>\n",
       "      <th>ratings</th>\n",
       "      <th>seconds</th>\n",
       "    </tr>\n",
       "    <tr>\n",
       "      <th>0</th>\n",
       "      <th></th>\n",
       "      <th></th>\n",
       "      <th></th>\n",
       "      <th></th>\n",
       "    </tr>\n",
       "  </thead>\n",
       "  <tbody>\n",
       "    <tr>\n",
       "      <th>1</th>\n",
       "      <td>The Nightmare Before Christmas</td>\n",
       "      <td>1993</td>\n",
       "      <td>3.9</td>\n",
       "      <td>4568.0</td>\n",
       "    </tr>\n",
       "    <tr>\n",
       "      <th>2</th>\n",
       "      <td>The Mummy</td>\n",
       "      <td>1932</td>\n",
       "      <td>3.5</td>\n",
       "      <td>4388.0</td>\n",
       "    </tr>\n",
       "    <tr>\n",
       "      <th>3</th>\n",
       "      <td>Orphans of the Storm</td>\n",
       "      <td>1921</td>\n",
       "      <td>3.2</td>\n",
       "      <td>9062.0</td>\n",
       "    </tr>\n",
       "    <tr>\n",
       "      <th>4</th>\n",
       "      <td>The Object of Beauty</td>\n",
       "      <td>1991</td>\n",
       "      <td>2.8</td>\n",
       "      <td>6150.0</td>\n",
       "    </tr>\n",
       "    <tr>\n",
       "      <th>5</th>\n",
       "      <td>Night Tide</td>\n",
       "      <td>1963</td>\n",
       "      <td>2.8</td>\n",
       "      <td>5126.0</td>\n",
       "    </tr>\n",
       "  </tbody>\n",
       "</table>\n",
       "</div>"
      ],
      "text/plain": [
       "                      film_titles  year  ratings  seconds\n",
       "0                                                        \n",
       "1  The Nightmare Before Christmas  1993      3.9   4568.0\n",
       "2                       The Mummy  1932      3.5   4388.0\n",
       "3            Orphans of the Storm  1921      3.2   9062.0\n",
       "4            The Object of Beauty  1991      2.8   6150.0\n",
       "5                      Night Tide  1963      2.8   5126.0"
      ]
     },
     "execution_count": 4,
     "metadata": {},
     "output_type": "execute_result"
    }
   ],
   "source": [
    "# Lets inspect the data\n",
    "\n",
    "data.head()"
   ]
  },
  {
   "cell_type": "code",
   "execution_count": 5,
   "id": "d27f4a30",
   "metadata": {},
   "outputs": [
    {
     "data": {
      "text/html": [
       "<div>\n",
       "<style scoped>\n",
       "    .dataframe tbody tr th:only-of-type {\n",
       "        vertical-align: middle;\n",
       "    }\n",
       "\n",
       "    .dataframe tbody tr th {\n",
       "        vertical-align: top;\n",
       "    }\n",
       "\n",
       "    .dataframe thead th {\n",
       "        text-align: right;\n",
       "    }\n",
       "</style>\n",
       "<table border=\"1\" class=\"dataframe\">\n",
       "  <thead>\n",
       "    <tr style=\"text-align: right;\">\n",
       "      <th></th>\n",
       "      <th>film_titles</th>\n",
       "      <th>year</th>\n",
       "      <th>ratings</th>\n",
       "      <th>seconds</th>\n",
       "    </tr>\n",
       "    <tr>\n",
       "      <th>0</th>\n",
       "      <th></th>\n",
       "      <th></th>\n",
       "      <th></th>\n",
       "      <th></th>\n",
       "    </tr>\n",
       "  </thead>\n",
       "  <tbody>\n",
       "    <tr>\n",
       "      <th>49586</th>\n",
       "      <td>Winter Wonderland</td>\n",
       "      <td>2013</td>\n",
       "      <td>2.8</td>\n",
       "      <td>1812.0</td>\n",
       "    </tr>\n",
       "    <tr>\n",
       "      <th>49587</th>\n",
       "      <td>Top Gear: Series 19: Africa Special</td>\n",
       "      <td>2013</td>\n",
       "      <td>NaN</td>\n",
       "      <td>6822.0</td>\n",
       "    </tr>\n",
       "    <tr>\n",
       "      <th>49588</th>\n",
       "      <td>Fireplace For Your Home: Crackling Fireplace w...</td>\n",
       "      <td>2010</td>\n",
       "      <td>NaN</td>\n",
       "      <td>3610.0</td>\n",
       "    </tr>\n",
       "    <tr>\n",
       "      <th>49589</th>\n",
       "      <td>Kate Plus Ei8ht</td>\n",
       "      <td>2010</td>\n",
       "      <td>2.7</td>\n",
       "      <td>NaN</td>\n",
       "    </tr>\n",
       "    <tr>\n",
       "      <th>49590</th>\n",
       "      <td>Kate Plus Ei8ht: Season 1</td>\n",
       "      <td>2010</td>\n",
       "      <td>2.7</td>\n",
       "      <td>NaN</td>\n",
       "    </tr>\n",
       "  </tbody>\n",
       "</table>\n",
       "</div>"
      ],
      "text/plain": [
       "                                             film_titles  year  ratings  \\\n",
       "0                                                                         \n",
       "49586                                  Winter Wonderland  2013      2.8   \n",
       "49587                Top Gear: Series 19: Africa Special  2013      NaN   \n",
       "49588  Fireplace For Your Home: Crackling Fireplace w...  2010      NaN   \n",
       "49589                                    Kate Plus Ei8ht  2010      2.7   \n",
       "49590                          Kate Plus Ei8ht: Season 1  2010      2.7   \n",
       "\n",
       "       seconds  \n",
       "0               \n",
       "49586   1812.0  \n",
       "49587   6822.0  \n",
       "49588   3610.0  \n",
       "49589      NaN  \n",
       "49590      NaN  "
      ]
     },
     "execution_count": 5,
     "metadata": {},
     "output_type": "execute_result"
    }
   ],
   "source": [
    "data.tail()"
   ]
  },
  {
   "cell_type": "code",
   "execution_count": 6,
   "id": "9cecd60d",
   "metadata": {},
   "outputs": [
    {
     "name": "stdout",
     "output_type": "stream",
     "text": [
      "<class 'pandas.core.frame.DataFrame'>\n",
      "Int64Index: 49590 entries, 1 to 49590\n",
      "Data columns (total 4 columns):\n",
      " #   Column       Non-Null Count  Dtype  \n",
      "---  ------       --------------  -----  \n",
      " 0   film_titles  49590 non-null  object \n",
      " 1   year         49590 non-null  int64  \n",
      " 2   ratings      10814 non-null  float64\n",
      " 3   seconds      45836 non-null  float64\n",
      "dtypes: float64(2), int64(1), object(1)\n",
      "memory usage: 1.9+ MB\n"
     ]
    }
   ],
   "source": [
    "data.info()"
   ]
  },
  {
   "cell_type": "code",
   "execution_count": 7,
   "id": "3119242f",
   "metadata": {},
   "outputs": [
    {
     "data": {
      "text/html": [
       "<div>\n",
       "<style scoped>\n",
       "    .dataframe tbody tr th:only-of-type {\n",
       "        vertical-align: middle;\n",
       "    }\n",
       "\n",
       "    .dataframe tbody tr th {\n",
       "        vertical-align: top;\n",
       "    }\n",
       "\n",
       "    .dataframe thead th {\n",
       "        text-align: right;\n",
       "    }\n",
       "</style>\n",
       "<table border=\"1\" class=\"dataframe\">\n",
       "  <thead>\n",
       "    <tr style=\"text-align: right;\">\n",
       "      <th></th>\n",
       "      <th>year</th>\n",
       "      <th>ratings</th>\n",
       "      <th>seconds</th>\n",
       "    </tr>\n",
       "  </thead>\n",
       "  <tbody>\n",
       "    <tr>\n",
       "      <th>count</th>\n",
       "      <td>49590.000000</td>\n",
       "      <td>10814.000000</td>\n",
       "      <td>45836.000000</td>\n",
       "    </tr>\n",
       "    <tr>\n",
       "      <th>mean</th>\n",
       "      <td>2002.303428</td>\n",
       "      <td>3.451248</td>\n",
       "      <td>2628.445436</td>\n",
       "    </tr>\n",
       "    <tr>\n",
       "      <th>std</th>\n",
       "      <td>12.534555</td>\n",
       "      <td>0.495601</td>\n",
       "      <td>1604.646265</td>\n",
       "    </tr>\n",
       "    <tr>\n",
       "      <th>min</th>\n",
       "      <td>1913.000000</td>\n",
       "      <td>1.400000</td>\n",
       "      <td>52.000000</td>\n",
       "    </tr>\n",
       "    <tr>\n",
       "      <th>25%</th>\n",
       "      <td>1999.000000</td>\n",
       "      <td>3.100000</td>\n",
       "      <td>1356.000000</td>\n",
       "    </tr>\n",
       "    <tr>\n",
       "      <th>50%</th>\n",
       "      <td>2007.000000</td>\n",
       "      <td>3.500000</td>\n",
       "      <td>2563.000000</td>\n",
       "    </tr>\n",
       "    <tr>\n",
       "      <th>75%</th>\n",
       "      <td>2010.000000</td>\n",
       "      <td>3.800000</td>\n",
       "      <td>2877.000000</td>\n",
       "    </tr>\n",
       "    <tr>\n",
       "      <th>max</th>\n",
       "      <td>2014.000000</td>\n",
       "      <td>4.500000</td>\n",
       "      <td>28813.000000</td>\n",
       "    </tr>\n",
       "  </tbody>\n",
       "</table>\n",
       "</div>"
      ],
      "text/plain": [
       "               year       ratings       seconds\n",
       "count  49590.000000  10814.000000  45836.000000\n",
       "mean    2002.303428      3.451248   2628.445436\n",
       "std       12.534555      0.495601   1604.646265\n",
       "min     1913.000000      1.400000     52.000000\n",
       "25%     1999.000000      3.100000   1356.000000\n",
       "50%     2007.000000      3.500000   2563.000000\n",
       "75%     2010.000000      3.800000   2877.000000\n",
       "max     2014.000000      4.500000  28813.000000"
      ]
     },
     "execution_count": 7,
     "metadata": {},
     "output_type": "execute_result"
    }
   ],
   "source": [
    "data.describe()"
   ]
  },
  {
   "cell_type": "code",
   "execution_count": 8,
   "id": "cf5ca90d",
   "metadata": {},
   "outputs": [
    {
     "data": {
      "text/plain": [
       "(49590, 4)"
      ]
     },
     "execution_count": 8,
     "metadata": {},
     "output_type": "execute_result"
    }
   ],
   "source": [
    "data.shape"
   ]
  },
  {
   "cell_type": "code",
   "execution_count": 9,
   "id": "fb6d394a",
   "metadata": {},
   "outputs": [
    {
     "name": "stdout",
     "output_type": "stream",
     "text": [
      "film_titles - 0\n",
      "year - 0\n",
      "ratings - 38776\n",
      "seconds - 3754\n"
     ]
    }
   ],
   "source": [
    "# Lets check null values\n",
    "\n",
    "for x in data.columns:\n",
    "    print(f'{x} - {sum(data[x].isnull())}')"
   ]
  },
  {
   "cell_type": "markdown",
   "id": "b8289fb6",
   "metadata": {},
   "source": [
    "### 1. No. of films released between 1950s and 1960s"
   ]
  },
  {
   "cell_type": "code",
   "execution_count": 10,
   "id": "cba36f45",
   "metadata": {},
   "outputs": [],
   "source": [
    "yr_filtered = data[(data.year > 1950) & (data.year <1960)]"
   ]
  },
  {
   "cell_type": "code",
   "execution_count": 11,
   "id": "eaf50fc2",
   "metadata": {},
   "outputs": [
    {
     "data": {
      "text/plain": [
       "array([1959, 1956, 1952, 1953, 1955, 1954, 1958, 1951, 1957], dtype=int64)"
      ]
     },
     "execution_count": 11,
     "metadata": {},
     "output_type": "execute_result"
    }
   ],
   "source": [
    "yr_filtered.year.unique()"
   ]
  },
  {
   "cell_type": "code",
   "execution_count": 12,
   "id": "a52acf3e",
   "metadata": {},
   "outputs": [
    {
     "data": {
      "text/html": [
       "<div>\n",
       "<style scoped>\n",
       "    .dataframe tbody tr th:only-of-type {\n",
       "        vertical-align: middle;\n",
       "    }\n",
       "\n",
       "    .dataframe tbody tr th {\n",
       "        vertical-align: top;\n",
       "    }\n",
       "\n",
       "    .dataframe thead th {\n",
       "        text-align: right;\n",
       "    }\n",
       "</style>\n",
       "<table border=\"1\" class=\"dataframe\">\n",
       "  <thead>\n",
       "    <tr style=\"text-align: right;\">\n",
       "      <th></th>\n",
       "      <th>film_titles</th>\n",
       "      <th>year</th>\n",
       "      <th>ratings</th>\n",
       "      <th>seconds</th>\n",
       "    </tr>\n",
       "    <tr>\n",
       "      <th>0</th>\n",
       "      <th></th>\n",
       "      <th></th>\n",
       "      <th></th>\n",
       "      <th></th>\n",
       "    </tr>\n",
       "  </thead>\n",
       "  <tbody>\n",
       "    <tr>\n",
       "      <th>94</th>\n",
       "      <td>House on Haunted Hill</td>\n",
       "      <td>1959</td>\n",
       "      <td>3.6</td>\n",
       "      <td>4491.0</td>\n",
       "    </tr>\n",
       "    <tr>\n",
       "      <th>98</th>\n",
       "      <td>Godzilla: King of the Monsters</td>\n",
       "      <td>1956</td>\n",
       "      <td>3.5</td>\n",
       "      <td>4828.0</td>\n",
       "    </tr>\n",
       "    <tr>\n",
       "      <th>100</th>\n",
       "      <td>High Noon</td>\n",
       "      <td>1952</td>\n",
       "      <td>3.9</td>\n",
       "      <td>5087.0</td>\n",
       "    </tr>\n",
       "    <tr>\n",
       "      <th>316</th>\n",
       "      <td>Beneath the 12-Mile Reef</td>\n",
       "      <td>1953</td>\n",
       "      <td>3.2</td>\n",
       "      <td>6036.0</td>\n",
       "    </tr>\n",
       "    <tr>\n",
       "      <th>402</th>\n",
       "      <td>Love Is a Many-Splendored Thing</td>\n",
       "      <td>1955</td>\n",
       "      <td>3.5</td>\n",
       "      <td>6115.0</td>\n",
       "    </tr>\n",
       "    <tr>\n",
       "      <th>...</th>\n",
       "      <td>...</td>\n",
       "      <td>...</td>\n",
       "      <td>...</td>\n",
       "      <td>...</td>\n",
       "    </tr>\n",
       "    <tr>\n",
       "      <th>35628</th>\n",
       "      <td>Alfred Hitchcock Presents: Season 3: The Canar...</td>\n",
       "      <td>1957</td>\n",
       "      <td>NaN</td>\n",
       "      <td>1570.0</td>\n",
       "    </tr>\n",
       "    <tr>\n",
       "      <th>35635</th>\n",
       "      <td>Alfred Hitchcock Presents: Season 3: Impromptu...</td>\n",
       "      <td>1957</td>\n",
       "      <td>NaN</td>\n",
       "      <td>1553.0</td>\n",
       "    </tr>\n",
       "    <tr>\n",
       "      <th>44641</th>\n",
       "      <td>Isn't Life Wonderful!</td>\n",
       "      <td>1954</td>\n",
       "      <td>2.9</td>\n",
       "      <td>4788.0</td>\n",
       "    </tr>\n",
       "    <tr>\n",
       "      <th>44723</th>\n",
       "      <td>Disney Animation Collection: Vol. 4: The Torto...</td>\n",
       "      <td>1958</td>\n",
       "      <td>NaN</td>\n",
       "      <td>1020.0</td>\n",
       "    </tr>\n",
       "    <tr>\n",
       "      <th>44767</th>\n",
       "      <td>Disney Animation Collection: Vol. 2: Three Lit...</td>\n",
       "      <td>1952</td>\n",
       "      <td>NaN</td>\n",
       "      <td>494.0</td>\n",
       "    </tr>\n",
       "  </tbody>\n",
       "</table>\n",
       "<p>414 rows × 4 columns</p>\n",
       "</div>"
      ],
      "text/plain": [
       "                                             film_titles  year  ratings  \\\n",
       "0                                                                         \n",
       "94                                 House on Haunted Hill  1959      3.6   \n",
       "98                        Godzilla: King of the Monsters  1956      3.5   \n",
       "100                                            High Noon  1952      3.9   \n",
       "316                             Beneath the 12-Mile Reef  1953      3.2   \n",
       "402                      Love Is a Many-Splendored Thing  1955      3.5   \n",
       "...                                                  ...   ...      ...   \n",
       "35628  Alfred Hitchcock Presents: Season 3: The Canar...  1957      NaN   \n",
       "35635  Alfred Hitchcock Presents: Season 3: Impromptu...  1957      NaN   \n",
       "44641                              Isn't Life Wonderful!  1954      2.9   \n",
       "44723  Disney Animation Collection: Vol. 4: The Torto...  1958      NaN   \n",
       "44767  Disney Animation Collection: Vol. 2: Three Lit...  1952      NaN   \n",
       "\n",
       "       seconds  \n",
       "0               \n",
       "94      4491.0  \n",
       "98      4828.0  \n",
       "100     5087.0  \n",
       "316     6036.0  \n",
       "402     6115.0  \n",
       "...        ...  \n",
       "35628   1570.0  \n",
       "35635   1553.0  \n",
       "44641   4788.0  \n",
       "44723   1020.0  \n",
       "44767    494.0  \n",
       "\n",
       "[414 rows x 4 columns]"
      ]
     },
     "execution_count": 12,
     "metadata": {},
     "output_type": "execute_result"
    }
   ],
   "source": [
    "yr_filtered"
   ]
  },
  {
   "cell_type": "code",
   "execution_count": 13,
   "id": "24490f30",
   "metadata": {},
   "outputs": [
    {
     "data": {
      "text/plain": [
       "414"
      ]
     },
     "execution_count": 13,
     "metadata": {},
     "output_type": "execute_result"
    }
   ],
   "source": [
    "yr_filtered.shape[0]"
   ]
  },
  {
   "cell_type": "markdown",
   "id": "e96d2c7c",
   "metadata": {},
   "source": [
    "##### 414 films released between 1950s and 1960s ( 547 including 1950s & 1960s )"
   ]
  },
  {
   "cell_type": "markdown",
   "id": "c95da6ac",
   "metadata": {},
   "source": [
    "### 2. No. of films with ratings more than 4"
   ]
  },
  {
   "cell_type": "code",
   "execution_count": 14,
   "id": "3fcd4bd4",
   "metadata": {},
   "outputs": [],
   "source": [
    "rat_abv_4 = data[data.ratings > 4]"
   ]
  },
  {
   "cell_type": "code",
   "execution_count": 15,
   "id": "526f0658",
   "metadata": {},
   "outputs": [
    {
     "data": {
      "text/html": [
       "<div>\n",
       "<style scoped>\n",
       "    .dataframe tbody tr th:only-of-type {\n",
       "        vertical-align: middle;\n",
       "    }\n",
       "\n",
       "    .dataframe tbody tr th {\n",
       "        vertical-align: top;\n",
       "    }\n",
       "\n",
       "    .dataframe thead th {\n",
       "        text-align: right;\n",
       "    }\n",
       "</style>\n",
       "<table border=\"1\" class=\"dataframe\">\n",
       "  <thead>\n",
       "    <tr style=\"text-align: right;\">\n",
       "      <th></th>\n",
       "      <th>film_titles</th>\n",
       "      <th>year</th>\n",
       "      <th>ratings</th>\n",
       "      <th>seconds</th>\n",
       "    </tr>\n",
       "    <tr>\n",
       "      <th>0</th>\n",
       "      <th></th>\n",
       "      <th></th>\n",
       "      <th></th>\n",
       "      <th></th>\n",
       "    </tr>\n",
       "  </thead>\n",
       "  <tbody>\n",
       "    <tr>\n",
       "      <th>139</th>\n",
       "      <td>Pulp Fiction</td>\n",
       "      <td>1994</td>\n",
       "      <td>4.1</td>\n",
       "      <td>9265.0</td>\n",
       "    </tr>\n",
       "    <tr>\n",
       "      <th>288</th>\n",
       "      <td>Life Is Beautiful</td>\n",
       "      <td>1997</td>\n",
       "      <td>4.2</td>\n",
       "      <td>6973.0</td>\n",
       "    </tr>\n",
       "    <tr>\n",
       "      <th>303</th>\n",
       "      <td>Mulan: Special Edition</td>\n",
       "      <td>1998</td>\n",
       "      <td>4.2</td>\n",
       "      <td>5270.0</td>\n",
       "    </tr>\n",
       "    <tr>\n",
       "      <th>465</th>\n",
       "      <td>Forrest Gump</td>\n",
       "      <td>1994</td>\n",
       "      <td>4.3</td>\n",
       "      <td>8525.0</td>\n",
       "    </tr>\n",
       "    <tr>\n",
       "      <th>491</th>\n",
       "      <td>Braveheart</td>\n",
       "      <td>1995</td>\n",
       "      <td>4.2</td>\n",
       "      <td>10658.0</td>\n",
       "    </tr>\n",
       "    <tr>\n",
       "      <th>...</th>\n",
       "      <td>...</td>\n",
       "      <td>...</td>\n",
       "      <td>...</td>\n",
       "      <td>...</td>\n",
       "    </tr>\n",
       "    <tr>\n",
       "      <th>49549</th>\n",
       "      <td>Life With Boys: Season 1</td>\n",
       "      <td>2011</td>\n",
       "      <td>4.1</td>\n",
       "      <td>NaN</td>\n",
       "    </tr>\n",
       "    <tr>\n",
       "      <th>49554</th>\n",
       "      <td>Max Steel</td>\n",
       "      <td>2013</td>\n",
       "      <td>4.1</td>\n",
       "      <td>NaN</td>\n",
       "    </tr>\n",
       "    <tr>\n",
       "      <th>49556</th>\n",
       "      <td>Lilyhammer: Season 1 (Recap)</td>\n",
       "      <td>2013</td>\n",
       "      <td>4.2</td>\n",
       "      <td>194.0</td>\n",
       "    </tr>\n",
       "    <tr>\n",
       "      <th>49571</th>\n",
       "      <td>The Short Game (Trailer)</td>\n",
       "      <td>2013</td>\n",
       "      <td>4.1</td>\n",
       "      <td>156.0</td>\n",
       "    </tr>\n",
       "    <tr>\n",
       "      <th>49579</th>\n",
       "      <td>Transformers Prime Beast Hunters: Predacons Ri...</td>\n",
       "      <td>2013</td>\n",
       "      <td>4.2</td>\n",
       "      <td>3950.0</td>\n",
       "    </tr>\n",
       "  </tbody>\n",
       "</table>\n",
       "<p>897 rows × 4 columns</p>\n",
       "</div>"
      ],
      "text/plain": [
       "                                             film_titles  year  ratings  \\\n",
       "0                                                                         \n",
       "139                                         Pulp Fiction  1994      4.1   \n",
       "288                                    Life Is Beautiful  1997      4.2   \n",
       "303                               Mulan: Special Edition  1998      4.2   \n",
       "465                                         Forrest Gump  1994      4.3   \n",
       "491                                           Braveheart  1995      4.2   \n",
       "...                                                  ...   ...      ...   \n",
       "49549                           Life With Boys: Season 1  2011      4.1   \n",
       "49554                                          Max Steel  2013      4.1   \n",
       "49556                       Lilyhammer: Season 1 (Recap)  2013      4.2   \n",
       "49571                           The Short Game (Trailer)  2013      4.1   \n",
       "49579  Transformers Prime Beast Hunters: Predacons Ri...  2013      4.2   \n",
       "\n",
       "       seconds  \n",
       "0               \n",
       "139     9265.0  \n",
       "288     6973.0  \n",
       "303     5270.0  \n",
       "465     8525.0  \n",
       "491    10658.0  \n",
       "...        ...  \n",
       "49549      NaN  \n",
       "49554      NaN  \n",
       "49556    194.0  \n",
       "49571    156.0  \n",
       "49579   3950.0  \n",
       "\n",
       "[897 rows x 4 columns]"
      ]
     },
     "execution_count": 15,
     "metadata": {},
     "output_type": "execute_result"
    }
   ],
   "source": [
    "rat_abv_4"
   ]
  },
  {
   "cell_type": "code",
   "execution_count": 16,
   "id": "4b857c88",
   "metadata": {},
   "outputs": [
    {
     "data": {
      "text/plain": [
       "897"
      ]
     },
     "execution_count": 16,
     "metadata": {},
     "output_type": "execute_result"
    }
   ],
   "source": [
    "rat_abv_4.shape[0]"
   ]
  },
  {
   "cell_type": "markdown",
   "id": "fb39c225",
   "metadata": {},
   "source": [
    "##### 897 films with ratings more the 4.0"
   ]
  },
  {
   "cell_type": "markdown",
   "id": "ea3873c9",
   "metadata": {},
   "source": [
    "### 3. Ratings between 3 & 4"
   ]
  },
  {
   "cell_type": "code",
   "execution_count": 17,
   "id": "a2e65de4",
   "metadata": {},
   "outputs": [
    {
     "data": {
      "text/html": [
       "<div>\n",
       "<style scoped>\n",
       "    .dataframe tbody tr th:only-of-type {\n",
       "        vertical-align: middle;\n",
       "    }\n",
       "\n",
       "    .dataframe tbody tr th {\n",
       "        vertical-align: top;\n",
       "    }\n",
       "\n",
       "    .dataframe thead th {\n",
       "        text-align: right;\n",
       "    }\n",
       "</style>\n",
       "<table border=\"1\" class=\"dataframe\">\n",
       "  <thead>\n",
       "    <tr style=\"text-align: right;\">\n",
       "      <th></th>\n",
       "      <th>film_titles</th>\n",
       "      <th>year</th>\n",
       "      <th>ratings</th>\n",
       "      <th>seconds</th>\n",
       "    </tr>\n",
       "    <tr>\n",
       "      <th>0</th>\n",
       "      <th></th>\n",
       "      <th></th>\n",
       "      <th></th>\n",
       "      <th></th>\n",
       "    </tr>\n",
       "  </thead>\n",
       "  <tbody>\n",
       "    <tr>\n",
       "      <th>1</th>\n",
       "      <td>The Nightmare Before Christmas</td>\n",
       "      <td>1993</td>\n",
       "      <td>3.9</td>\n",
       "      <td>4568.0</td>\n",
       "    </tr>\n",
       "    <tr>\n",
       "      <th>2</th>\n",
       "      <td>The Mummy</td>\n",
       "      <td>1932</td>\n",
       "      <td>3.5</td>\n",
       "      <td>4388.0</td>\n",
       "    </tr>\n",
       "    <tr>\n",
       "      <th>3</th>\n",
       "      <td>Orphans of the Storm</td>\n",
       "      <td>1921</td>\n",
       "      <td>3.2</td>\n",
       "      <td>9062.0</td>\n",
       "    </tr>\n",
       "    <tr>\n",
       "      <th>6</th>\n",
       "      <td>One Magic Christmas</td>\n",
       "      <td>1985</td>\n",
       "      <td>3.8</td>\n",
       "      <td>5333.0</td>\n",
       "    </tr>\n",
       "    <tr>\n",
       "      <th>7</th>\n",
       "      <td>Muriel's Wedding</td>\n",
       "      <td>1994</td>\n",
       "      <td>3.5</td>\n",
       "      <td>6323.0</td>\n",
       "    </tr>\n",
       "    <tr>\n",
       "      <th>...</th>\n",
       "      <td>...</td>\n",
       "      <td>...</td>\n",
       "      <td>...</td>\n",
       "      <td>...</td>\n",
       "    </tr>\n",
       "    <tr>\n",
       "      <th>49576</th>\n",
       "      <td>Dave Foley: Relatively Well</td>\n",
       "      <td>2013</td>\n",
       "      <td>3.2</td>\n",
       "      <td>3446.0</td>\n",
       "    </tr>\n",
       "    <tr>\n",
       "      <th>49580</th>\n",
       "      <td>Underground: The Julian Assange Story</td>\n",
       "      <td>2012</td>\n",
       "      <td>3.7</td>\n",
       "      <td>5665.0</td>\n",
       "    </tr>\n",
       "    <tr>\n",
       "      <th>49581</th>\n",
       "      <td>Curious George: A Very Monkey Christmas</td>\n",
       "      <td>2009</td>\n",
       "      <td>3.8</td>\n",
       "      <td>3438.0</td>\n",
       "    </tr>\n",
       "    <tr>\n",
       "      <th>49583</th>\n",
       "      <td>Lady Gaga &amp;#38; The Muppets' Holiday Spectacular</td>\n",
       "      <td>2013</td>\n",
       "      <td>3.1</td>\n",
       "      <td>3496.0</td>\n",
       "    </tr>\n",
       "    <tr>\n",
       "      <th>49585</th>\n",
       "      <td>Silver Bells</td>\n",
       "      <td>2013</td>\n",
       "      <td>3.5</td>\n",
       "      <td>5287.0</td>\n",
       "    </tr>\n",
       "  </tbody>\n",
       "</table>\n",
       "<p>7161 rows × 4 columns</p>\n",
       "</div>"
      ],
      "text/plain": [
       "                                            film_titles  year  ratings  \\\n",
       "0                                                                        \n",
       "1                        The Nightmare Before Christmas  1993      3.9   \n",
       "2                                             The Mummy  1932      3.5   \n",
       "3                                  Orphans of the Storm  1921      3.2   \n",
       "6                                   One Magic Christmas  1985      3.8   \n",
       "7                                      Muriel's Wedding  1994      3.5   \n",
       "...                                                 ...   ...      ...   \n",
       "49576                       Dave Foley: Relatively Well  2013      3.2   \n",
       "49580             Underground: The Julian Assange Story  2012      3.7   \n",
       "49581           Curious George: A Very Monkey Christmas  2009      3.8   \n",
       "49583  Lady Gaga &#38; The Muppets' Holiday Spectacular  2013      3.1   \n",
       "49585                                      Silver Bells  2013      3.5   \n",
       "\n",
       "       seconds  \n",
       "0               \n",
       "1       4568.0  \n",
       "2       4388.0  \n",
       "3       9062.0  \n",
       "6       5333.0  \n",
       "7       6323.0  \n",
       "...        ...  \n",
       "49576   3446.0  \n",
       "49580   5665.0  \n",
       "49581   3438.0  \n",
       "49583   3496.0  \n",
       "49585   5287.0  \n",
       "\n",
       "[7161 rows x 4 columns]"
      ]
     },
     "execution_count": 17,
     "metadata": {},
     "output_type": "execute_result"
    }
   ],
   "source": [
    "ratings_filtered = data[(data.ratings > 3) & (data.ratings < 4)]\n",
    "ratings_filtered"
   ]
  },
  {
   "cell_type": "code",
   "execution_count": 18,
   "id": "b71e9402",
   "metadata": {},
   "outputs": [],
   "source": [
    "s_rat_fitered = pd.Series(ratings_filtered.film_titles.unique())"
   ]
  },
  {
   "cell_type": "code",
   "execution_count": 19,
   "id": "4835505c",
   "metadata": {},
   "outputs": [
    {
     "data": {
      "text/plain": [
       "0                         The Nightmare Before Christmas\n",
       "1                                              The Mummy\n",
       "2                                   Orphans of the Storm\n",
       "3                                    One Magic Christmas\n",
       "4                                       Muriel's Wedding\n",
       "                              ...                       \n",
       "6873                         Dave Foley: Relatively Well\n",
       "6874               Underground: The Julian Assange Story\n",
       "6875             Curious George: A Very Monkey Christmas\n",
       "6876    Lady Gaga &#38; The Muppets' Holiday Spectacular\n",
       "6877                                        Silver Bells\n",
       "Length: 6878, dtype: object"
      ]
     },
     "execution_count": 19,
     "metadata": {},
     "output_type": "execute_result"
    }
   ],
   "source": [
    "s_rat_fitered"
   ]
  },
  {
   "cell_type": "markdown",
   "id": "ed00236e",
   "metadata": {},
   "source": [
    "### 4. Films with duration as more than 2 hrs"
   ]
  },
  {
   "cell_type": "code",
   "execution_count": 20,
   "id": "026adb74",
   "metadata": {},
   "outputs": [
    {
     "data": {
      "text/html": [
       "<div>\n",
       "<style scoped>\n",
       "    .dataframe tbody tr th:only-of-type {\n",
       "        vertical-align: middle;\n",
       "    }\n",
       "\n",
       "    .dataframe tbody tr th {\n",
       "        vertical-align: top;\n",
       "    }\n",
       "\n",
       "    .dataframe thead th {\n",
       "        text-align: right;\n",
       "    }\n",
       "</style>\n",
       "<table border=\"1\" class=\"dataframe\">\n",
       "  <thead>\n",
       "    <tr style=\"text-align: right;\">\n",
       "      <th></th>\n",
       "      <th>film_titles</th>\n",
       "      <th>year</th>\n",
       "      <th>ratings</th>\n",
       "      <th>seconds</th>\n",
       "    </tr>\n",
       "    <tr>\n",
       "      <th>0</th>\n",
       "      <th></th>\n",
       "      <th></th>\n",
       "      <th></th>\n",
       "      <th></th>\n",
       "    </tr>\n",
       "  </thead>\n",
       "  <tbody>\n",
       "    <tr>\n",
       "      <th>3</th>\n",
       "      <td>Orphans of the Storm</td>\n",
       "      <td>1921</td>\n",
       "      <td>3.2</td>\n",
       "      <td>9062.0</td>\n",
       "    </tr>\n",
       "    <tr>\n",
       "      <th>13</th>\n",
       "      <td>The Birth of a Nation</td>\n",
       "      <td>1915</td>\n",
       "      <td>2.9</td>\n",
       "      <td>12118.0</td>\n",
       "    </tr>\n",
       "    <tr>\n",
       "      <th>14</th>\n",
       "      <td>The Boys from Brazil</td>\n",
       "      <td>1978</td>\n",
       "      <td>3.6</td>\n",
       "      <td>7417.0</td>\n",
       "    </tr>\n",
       "    <tr>\n",
       "      <th>21</th>\n",
       "      <td>Born on the Fourth of July</td>\n",
       "      <td>1989</td>\n",
       "      <td>3.4</td>\n",
       "      <td>8646.0</td>\n",
       "    </tr>\n",
       "    <tr>\n",
       "      <th>22</th>\n",
       "      <td>Broadcast News</td>\n",
       "      <td>1987</td>\n",
       "      <td>3.4</td>\n",
       "      <td>7940.0</td>\n",
       "    </tr>\n",
       "    <tr>\n",
       "      <th>...</th>\n",
       "      <td>...</td>\n",
       "      <td>...</td>\n",
       "      <td>...</td>\n",
       "      <td>...</td>\n",
       "    </tr>\n",
       "    <tr>\n",
       "      <th>45108</th>\n",
       "      <td>Settai</td>\n",
       "      <td>2013</td>\n",
       "      <td>2.8</td>\n",
       "      <td>7390.0</td>\n",
       "    </tr>\n",
       "    <tr>\n",
       "      <th>46832</th>\n",
       "      <td>WWE for All Mankind: The Life &amp;#38; Career of ...</td>\n",
       "      <td>2013</td>\n",
       "      <td>4.2</td>\n",
       "      <td>8066.0</td>\n",
       "    </tr>\n",
       "    <tr>\n",
       "      <th>46949</th>\n",
       "      <td>Example Short XII 23976 2 Hour</td>\n",
       "      <td>2010</td>\n",
       "      <td>2.6</td>\n",
       "      <td>7370.0</td>\n",
       "    </tr>\n",
       "    <tr>\n",
       "      <th>48714</th>\n",
       "      <td>WWE: The Top 25 Rivalries in Wrestling History</td>\n",
       "      <td>2013</td>\n",
       "      <td>3.7</td>\n",
       "      <td>10228.0</td>\n",
       "    </tr>\n",
       "    <tr>\n",
       "      <th>49055</th>\n",
       "      <td>Theeya Velai Seyyanum Kumaru</td>\n",
       "      <td>2013</td>\n",
       "      <td>3.3</td>\n",
       "      <td>8239.0</td>\n",
       "    </tr>\n",
       "  </tbody>\n",
       "</table>\n",
       "<p>641 rows × 4 columns</p>\n",
       "</div>"
      ],
      "text/plain": [
       "                                             film_titles  year  ratings  \\\n",
       "0                                                                         \n",
       "3                                   Orphans of the Storm  1921      3.2   \n",
       "13                                 The Birth of a Nation  1915      2.9   \n",
       "14                                  The Boys from Brazil  1978      3.6   \n",
       "21                            Born on the Fourth of July  1989      3.4   \n",
       "22                                        Broadcast News  1987      3.4   \n",
       "...                                                  ...   ...      ...   \n",
       "45108                                             Settai  2013      2.8   \n",
       "46832  WWE for All Mankind: The Life &#38; Career of ...  2013      4.2   \n",
       "46949                     Example Short XII 23976 2 Hour  2010      2.6   \n",
       "48714     WWE: The Top 25 Rivalries in Wrestling History  2013      3.7   \n",
       "49055                       Theeya Velai Seyyanum Kumaru  2013      3.3   \n",
       "\n",
       "       seconds  \n",
       "0               \n",
       "3       9062.0  \n",
       "13     12118.0  \n",
       "14      7417.0  \n",
       "21      8646.0  \n",
       "22      7940.0  \n",
       "...        ...  \n",
       "45108   7390.0  \n",
       "46832   8066.0  \n",
       "46949   7370.0  \n",
       "48714  10228.0  \n",
       "49055   8239.0  \n",
       "\n",
       "[641 rows x 4 columns]"
      ]
     },
     "execution_count": 20,
     "metadata": {},
     "output_type": "execute_result"
    }
   ],
   "source": [
    "secs_filtered = data[data.seconds > 7200]\n",
    "secs_filtered"
   ]
  },
  {
   "cell_type": "code",
   "execution_count": 21,
   "id": "69d9cd0b",
   "metadata": {},
   "outputs": [
    {
     "data": {
      "text/plain": [
       "Orphans of the Storm                 1\n",
       "13B                                  1\n",
       "Ken Burns: Baseball: Inning Six      1\n",
       "Ken Burns: Baseball: Inning Seven    1\n",
       "Ken Burns: Baseball: Inning Nine     1\n",
       "                                    ..\n",
       "The Constant Gardener                1\n",
       "Mind the Gap                         1\n",
       "Bunty Aur Babli                      1\n",
       "One Bright Shining Moment            1\n",
       "Theeya Velai Seyyanum Kumaru         1\n",
       "Name: film_titles, Length: 641, dtype: int64"
      ]
     },
     "execution_count": 21,
     "metadata": {},
     "output_type": "execute_result"
    }
   ],
   "source": [
    "# No duplicates\n",
    "\n",
    "secs_filtered.film_titles.value_counts()"
   ]
  },
  {
   "cell_type": "code",
   "execution_count": 22,
   "id": "d29ec2ee",
   "metadata": {},
   "outputs": [
    {
     "data": {
      "text/plain": [
       "641"
      ]
     },
     "execution_count": 22,
     "metadata": {},
     "output_type": "execute_result"
    }
   ],
   "source": [
    "secs_filtered.shape[0]"
   ]
  },
  {
   "cell_type": "markdown",
   "id": "ac756726",
   "metadata": {},
   "source": [
    "### 5. Year and No. of Films DataFrame"
   ]
  },
  {
   "cell_type": "code",
   "execution_count": 23,
   "id": "4f497bdb",
   "metadata": {},
   "outputs": [
    {
     "data": {
      "text/html": [
       "<div>\n",
       "<style scoped>\n",
       "    .dataframe tbody tr th:only-of-type {\n",
       "        vertical-align: middle;\n",
       "    }\n",
       "\n",
       "    .dataframe tbody tr th {\n",
       "        vertical-align: top;\n",
       "    }\n",
       "\n",
       "    .dataframe thead th {\n",
       "        text-align: right;\n",
       "    }\n",
       "</style>\n",
       "<table border=\"1\" class=\"dataframe\">\n",
       "  <thead>\n",
       "    <tr style=\"text-align: right;\">\n",
       "      <th></th>\n",
       "      <th>year</th>\n",
       "      <th>film_titles</th>\n",
       "    </tr>\n",
       "    <tr>\n",
       "      <th>0</th>\n",
       "      <th></th>\n",
       "      <th></th>\n",
       "    </tr>\n",
       "  </thead>\n",
       "  <tbody>\n",
       "    <tr>\n",
       "      <th>1</th>\n",
       "      <td>1993</td>\n",
       "      <td>The Nightmare Before Christmas</td>\n",
       "    </tr>\n",
       "    <tr>\n",
       "      <th>2</th>\n",
       "      <td>1932</td>\n",
       "      <td>The Mummy</td>\n",
       "    </tr>\n",
       "    <tr>\n",
       "      <th>3</th>\n",
       "      <td>1921</td>\n",
       "      <td>Orphans of the Storm</td>\n",
       "    </tr>\n",
       "    <tr>\n",
       "      <th>4</th>\n",
       "      <td>1991</td>\n",
       "      <td>The Object of Beauty</td>\n",
       "    </tr>\n",
       "    <tr>\n",
       "      <th>5</th>\n",
       "      <td>1963</td>\n",
       "      <td>Night Tide</td>\n",
       "    </tr>\n",
       "    <tr>\n",
       "      <th>...</th>\n",
       "      <td>...</td>\n",
       "      <td>...</td>\n",
       "    </tr>\n",
       "    <tr>\n",
       "      <th>49586</th>\n",
       "      <td>2013</td>\n",
       "      <td>Winter Wonderland</td>\n",
       "    </tr>\n",
       "    <tr>\n",
       "      <th>49587</th>\n",
       "      <td>2013</td>\n",
       "      <td>Top Gear: Series 19: Africa Special</td>\n",
       "    </tr>\n",
       "    <tr>\n",
       "      <th>49588</th>\n",
       "      <td>2010</td>\n",
       "      <td>Fireplace For Your Home: Crackling Fireplace w...</td>\n",
       "    </tr>\n",
       "    <tr>\n",
       "      <th>49589</th>\n",
       "      <td>2010</td>\n",
       "      <td>Kate Plus Ei8ht</td>\n",
       "    </tr>\n",
       "    <tr>\n",
       "      <th>49590</th>\n",
       "      <td>2010</td>\n",
       "      <td>Kate Plus Ei8ht: Season 1</td>\n",
       "    </tr>\n",
       "  </tbody>\n",
       "</table>\n",
       "<p>49590 rows × 2 columns</p>\n",
       "</div>"
      ],
      "text/plain": [
       "       year                                        film_titles\n",
       "0                                                             \n",
       "1      1993                     The Nightmare Before Christmas\n",
       "2      1932                                          The Mummy\n",
       "3      1921                               Orphans of the Storm\n",
       "4      1991                               The Object of Beauty\n",
       "5      1963                                         Night Tide\n",
       "...     ...                                                ...\n",
       "49586  2013                                  Winter Wonderland\n",
       "49587  2013                Top Gear: Series 19: Africa Special\n",
       "49588  2010  Fireplace For Your Home: Crackling Fireplace w...\n",
       "49589  2010                                    Kate Plus Ei8ht\n",
       "49590  2010                          Kate Plus Ei8ht: Season 1\n",
       "\n",
       "[49590 rows x 2 columns]"
      ]
     },
     "execution_count": 23,
     "metadata": {},
     "output_type": "execute_result"
    }
   ],
   "source": [
    "yr_films = data.loc[:,['year', 'film_titles']]\n",
    "yr_films"
   ]
  },
  {
   "cell_type": "code",
   "execution_count": 24,
   "id": "542b3083",
   "metadata": {},
   "outputs": [
    {
     "data": {
      "text/plain": [
       "Bleak House                                                    4\n",
       "Treasure Island                                                3\n",
       "Mansfield Park                                                 3\n",
       "Jane Eyre                                                      3\n",
       "Kidnapped                                                      3\n",
       "                                                              ..\n",
       "The Andy Griffith Show: Season 7: Goober Makes History         1\n",
       "The Andy Griffith Show: Season 7: The Ballgame                 1\n",
       "The Andy Griffith Show: Season 7: Aunt Bee's Crowning Glory    1\n",
       "The Andy Griffith Show: Season 7: Helen  the Authoress         1\n",
       "Kate Plus Ei8ht: Season 1                                      1\n",
       "Name: film_titles, Length: 49143, dtype: int64"
      ]
     },
     "execution_count": 24,
     "metadata": {},
     "output_type": "execute_result"
    }
   ],
   "source": [
    "# Found duplicates in film_title columns\n",
    "\n",
    "yr_films.film_titles.value_counts()"
   ]
  },
  {
   "cell_type": "code",
   "execution_count": 25,
   "id": "f3e74ff2",
   "metadata": {},
   "outputs": [
    {
     "data": {
      "text/html": [
       "<div>\n",
       "<style scoped>\n",
       "    .dataframe tbody tr th:only-of-type {\n",
       "        vertical-align: middle;\n",
       "    }\n",
       "\n",
       "    .dataframe tbody tr th {\n",
       "        vertical-align: top;\n",
       "    }\n",
       "\n",
       "    .dataframe thead th {\n",
       "        text-align: right;\n",
       "    }\n",
       "</style>\n",
       "<table border=\"1\" class=\"dataframe\">\n",
       "  <thead>\n",
       "    <tr style=\"text-align: right;\">\n",
       "      <th></th>\n",
       "      <th>year</th>\n",
       "      <th>film_titles</th>\n",
       "    </tr>\n",
       "    <tr>\n",
       "      <th>0</th>\n",
       "      <th></th>\n",
       "      <th></th>\n",
       "    </tr>\n",
       "  </thead>\n",
       "  <tbody>\n",
       "    <tr>\n",
       "      <th>2236</th>\n",
       "      <td>1985</td>\n",
       "      <td>Bleak House</td>\n",
       "    </tr>\n",
       "    <tr>\n",
       "      <th>2434</th>\n",
       "      <td>2005</td>\n",
       "      <td>Bleak House</td>\n",
       "    </tr>\n",
       "    <tr>\n",
       "      <th>26446</th>\n",
       "      <td>2005</td>\n",
       "      <td>Bleak House</td>\n",
       "    </tr>\n",
       "    <tr>\n",
       "      <th>26447</th>\n",
       "      <td>1985</td>\n",
       "      <td>Bleak House</td>\n",
       "    </tr>\n",
       "  </tbody>\n",
       "</table>\n",
       "</div>"
      ],
      "text/plain": [
       "       year  film_titles\n",
       "0                       \n",
       "2236   1985  Bleak House\n",
       "2434   2005  Bleak House\n",
       "26446  2005  Bleak House\n",
       "26447  1985  Bleak House"
      ]
     },
     "execution_count": 25,
     "metadata": {},
     "output_type": "execute_result"
    }
   ],
   "source": [
    "# Lets check if the years are same as well\n",
    "\n",
    "yr_films[yr_films.film_titles == 'Bleak House']\n",
    "\n",
    "# Nope"
   ]
  },
  {
   "cell_type": "code",
   "execution_count": 31,
   "id": "1f7a6071",
   "metadata": {},
   "outputs": [],
   "source": [
    "years = []\n",
    "film_counts = []\n",
    "\n",
    "for x in yr_films.year.unique():\n",
    "    years.append(x)\n",
    "    film_counts.append(len(yr_films.film_titles[yr_films.year == x]))"
   ]
  },
  {
   "cell_type": "code",
   "execution_count": 39,
   "id": "15460919",
   "metadata": {},
   "outputs": [],
   "source": [
    "filmsPerYear = pd.DataFrame(film_counts, years).reset_index()"
   ]
  },
  {
   "cell_type": "code",
   "execution_count": 42,
   "id": "01400e08",
   "metadata": {},
   "outputs": [],
   "source": [
    "filmsPerYear.columns = ['years', 'no_of_films']"
   ]
  },
  {
   "cell_type": "code",
   "execution_count": 44,
   "id": "9f8de1e5",
   "metadata": {},
   "outputs": [],
   "source": [
    "filmsPerYear = filmsPerYear.sort_values('years')"
   ]
  },
  {
   "cell_type": "code",
   "execution_count": 47,
   "id": "7fb0b65d",
   "metadata": {},
   "outputs": [
    {
     "data": {
      "text/html": [
       "<div>\n",
       "<style scoped>\n",
       "    .dataframe tbody tr th:only-of-type {\n",
       "        vertical-align: middle;\n",
       "    }\n",
       "\n",
       "    .dataframe tbody tr th {\n",
       "        vertical-align: top;\n",
       "    }\n",
       "\n",
       "    .dataframe thead th {\n",
       "        text-align: right;\n",
       "    }\n",
       "</style>\n",
       "<table border=\"1\" class=\"dataframe\">\n",
       "  <thead>\n",
       "    <tr style=\"text-align: right;\">\n",
       "      <th></th>\n",
       "      <th>years</th>\n",
       "      <th>no_of_films</th>\n",
       "    </tr>\n",
       "  </thead>\n",
       "  <tbody>\n",
       "    <tr>\n",
       "      <th>98</th>\n",
       "      <td>1913</td>\n",
       "      <td>3</td>\n",
       "    </tr>\n",
       "    <tr>\n",
       "      <th>71</th>\n",
       "      <td>1914</td>\n",
       "      <td>20</td>\n",
       "    </tr>\n",
       "    <tr>\n",
       "      <th>11</th>\n",
       "      <td>1915</td>\n",
       "      <td>1</td>\n",
       "    </tr>\n",
       "    <tr>\n",
       "      <th>56</th>\n",
       "      <td>1916</td>\n",
       "      <td>1</td>\n",
       "    </tr>\n",
       "    <tr>\n",
       "      <th>99</th>\n",
       "      <td>1918</td>\n",
       "      <td>1</td>\n",
       "    </tr>\n",
       "    <tr>\n",
       "      <th>...</th>\n",
       "      <td>...</td>\n",
       "      <td>...</td>\n",
       "    </tr>\n",
       "    <tr>\n",
       "      <th>89</th>\n",
       "      <td>2010</td>\n",
       "      <td>5107</td>\n",
       "    </tr>\n",
       "    <tr>\n",
       "      <th>90</th>\n",
       "      <td>2011</td>\n",
       "      <td>5511</td>\n",
       "    </tr>\n",
       "    <tr>\n",
       "      <th>97</th>\n",
       "      <td>2012</td>\n",
       "      <td>4339</td>\n",
       "    </tr>\n",
       "    <tr>\n",
       "      <th>96</th>\n",
       "      <td>2013</td>\n",
       "      <td>981</td>\n",
       "    </tr>\n",
       "    <tr>\n",
       "      <th>100</th>\n",
       "      <td>2014</td>\n",
       "      <td>1</td>\n",
       "    </tr>\n",
       "  </tbody>\n",
       "</table>\n",
       "<p>101 rows × 2 columns</p>\n",
       "</div>"
      ],
      "text/plain": [
       "     years  no_of_films\n",
       "98    1913            3\n",
       "71    1914           20\n",
       "11    1915            1\n",
       "56    1916            1\n",
       "99    1918            1\n",
       "..     ...          ...\n",
       "89    2010         5107\n",
       "90    2011         5511\n",
       "97    2012         4339\n",
       "96    2013          981\n",
       "100   2014            1\n",
       "\n",
       "[101 rows x 2 columns]"
      ]
     },
     "execution_count": 47,
     "metadata": {},
     "output_type": "execute_result"
    }
   ],
   "source": [
    "filmsPerYear"
   ]
  },
  {
   "cell_type": "markdown",
   "id": "754c2a24",
   "metadata": {},
   "source": [
    "### 6. Total no. of films in the data"
   ]
  },
  {
   "cell_type": "code",
   "execution_count": 49,
   "id": "1a229696",
   "metadata": {},
   "outputs": [],
   "source": [
    "new_df = data.drop_duplicates()"
   ]
  },
  {
   "cell_type": "code",
   "execution_count": 51,
   "id": "257d0fe4",
   "metadata": {},
   "outputs": [
    {
     "data": {
      "text/html": [
       "<div>\n",
       "<style scoped>\n",
       "    .dataframe tbody tr th:only-of-type {\n",
       "        vertical-align: middle;\n",
       "    }\n",
       "\n",
       "    .dataframe tbody tr th {\n",
       "        vertical-align: top;\n",
       "    }\n",
       "\n",
       "    .dataframe thead th {\n",
       "        text-align: right;\n",
       "    }\n",
       "</style>\n",
       "<table border=\"1\" class=\"dataframe\">\n",
       "  <thead>\n",
       "    <tr style=\"text-align: right;\">\n",
       "      <th></th>\n",
       "      <th>film_titles</th>\n",
       "      <th>year</th>\n",
       "      <th>ratings</th>\n",
       "      <th>seconds</th>\n",
       "    </tr>\n",
       "    <tr>\n",
       "      <th>0</th>\n",
       "      <th></th>\n",
       "      <th></th>\n",
       "      <th></th>\n",
       "      <th></th>\n",
       "    </tr>\n",
       "  </thead>\n",
       "  <tbody>\n",
       "    <tr>\n",
       "      <th>1</th>\n",
       "      <td>The Nightmare Before Christmas</td>\n",
       "      <td>1993</td>\n",
       "      <td>3.9</td>\n",
       "      <td>4568.0</td>\n",
       "    </tr>\n",
       "    <tr>\n",
       "      <th>2</th>\n",
       "      <td>The Mummy</td>\n",
       "      <td>1932</td>\n",
       "      <td>3.5</td>\n",
       "      <td>4388.0</td>\n",
       "    </tr>\n",
       "    <tr>\n",
       "      <th>3</th>\n",
       "      <td>Orphans of the Storm</td>\n",
       "      <td>1921</td>\n",
       "      <td>3.2</td>\n",
       "      <td>9062.0</td>\n",
       "    </tr>\n",
       "    <tr>\n",
       "      <th>4</th>\n",
       "      <td>The Object of Beauty</td>\n",
       "      <td>1991</td>\n",
       "      <td>2.8</td>\n",
       "      <td>6150.0</td>\n",
       "    </tr>\n",
       "    <tr>\n",
       "      <th>5</th>\n",
       "      <td>Night Tide</td>\n",
       "      <td>1963</td>\n",
       "      <td>2.8</td>\n",
       "      <td>5126.0</td>\n",
       "    </tr>\n",
       "  </tbody>\n",
       "</table>\n",
       "</div>"
      ],
      "text/plain": [
       "                      film_titles  year  ratings  seconds\n",
       "0                                                        \n",
       "1  The Nightmare Before Christmas  1993      3.9   4568.0\n",
       "2                       The Mummy  1932      3.5   4388.0\n",
       "3            Orphans of the Storm  1921      3.2   9062.0\n",
       "4            The Object of Beauty  1991      2.8   6150.0\n",
       "5                      Night Tide  1963      2.8   5126.0"
      ]
     },
     "execution_count": 51,
     "metadata": {},
     "output_type": "execute_result"
    }
   ],
   "source": [
    "new_df.head()"
   ]
  },
  {
   "cell_type": "code",
   "execution_count": 52,
   "id": "42c56665",
   "metadata": {},
   "outputs": [
    {
     "data": {
      "text/plain": [
       "Kidnapped                                                  3\n",
       "Dragon                                                     3\n",
       "Brian's Song                                               2\n",
       "Bringing Up Bobby                                          2\n",
       "Footloose                                                  2\n",
       "                                                          ..\n",
       "The Andy Griffith Show: Season 4: The Song Festers         1\n",
       "The Andy Griffith Show: Season 4: Hot Rod Otis             1\n",
       "The Andy Griffith Show: Season 4: Prisoner of Love         1\n",
       "The Andy Griffith Show: Season 4: Aunt Bee the Crusader    1\n",
       "Kate Plus Ei8ht: Season 1                                  1\n",
       "Name: film_titles, Length: 49143, dtype: int64"
      ]
     },
     "execution_count": 52,
     "metadata": {},
     "output_type": "execute_result"
    }
   ],
   "source": [
    "new_df.film_titles.value_counts()"
   ]
  },
  {
   "cell_type": "code",
   "execution_count": 53,
   "id": "17846d2b",
   "metadata": {},
   "outputs": [
    {
     "data": {
      "text/plain": [
       "49245"
      ]
     },
     "execution_count": 53,
     "metadata": {},
     "output_type": "execute_result"
    }
   ],
   "source": [
    "len(new_df.film_titles)"
   ]
  }
 ],
 "metadata": {
  "kernelspec": {
   "display_name": "Python 3 (ipykernel)",
   "language": "python",
   "name": "python3"
  },
  "language_info": {
   "codemirror_mode": {
    "name": "ipython",
    "version": 3
   },
   "file_extension": ".py",
   "mimetype": "text/x-python",
   "name": "python",
   "nbconvert_exporter": "python",
   "pygments_lexer": "ipython3",
   "version": "3.9.13"
  }
 },
 "nbformat": 4,
 "nbformat_minor": 5
}
